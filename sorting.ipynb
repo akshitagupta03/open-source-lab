{
 "cells": [
  {
   "cell_type": "code",
   "execution_count": 1,
   "id": "7a295fd9",
   "metadata": {},
   "outputs": [
    {
     "name": "stdout",
     "output_type": "stream",
     "text": [
      "enter size of array - 5\n",
      "enter element no 1 - 5\n",
      "enter element no 2 - 2\n",
      "enter element no 3 - 3\n",
      "enter element no 4 - 1\n",
      "enter element no 5 - 4\n",
      "Sorted array is: - \n",
      "['1', '2', '3', '4', '5']\n"
     ]
    }
   ],
   "source": [
    "#Bubble Sort \n",
    "\n",
    "def bubbleSort(arr):\n",
    "    n = len(arr)\n",
    "    swapped = False\n",
    "    for i in range(n-1):\n",
    "        for j in range(0, n-i-1):\n",
    "            if arr[j] > arr[j + 1]:\n",
    "                swapped = True\n",
    "                arr[j], arr[j + 1] = arr[j + 1], arr[j]\n",
    "         \n",
    "        if not swapped:\n",
    "            return\n",
    "\n",
    "arr = [] \n",
    "n = int(input(\"enter size of array - \"))\n",
    "for i in range(0, n):\n",
    "    a = input(\"enter element no %d - \" %(i+1));\n",
    "    arr.append(a)\n",
    "bubbleSort(arr)\n",
    "print(\"Sorted array is: - \")\n",
    "print(arr)"
   ]
  },
  {
   "cell_type": "code",
   "execution_count": 2,
   "id": "23b640ad",
   "metadata": {},
   "outputs": [
    {
     "name": "stdout",
     "output_type": "stream",
     "text": [
      "enter size of array - 5\n",
      "enter element no 1 - 8\n",
      "enter element no 2 - 7\n",
      "enter element no 3 - 4\n",
      "enter element no 4 - 9\n",
      "enter element no 5 - 1\n",
      "Sorted array is: - \n",
      "['1', '4', '7', '8', '9']\n"
     ]
    }
   ],
   "source": [
    "#Insertion Sort\n",
    "\n",
    "def insertion_sort(arr):\n",
    "    for i in range(1, len(arr)):\n",
    "        key = arr[i]\n",
    "        j = i - 1\n",
    "        while j >= 0 and key < arr[j]:\n",
    "            arr[j + 1] = arr[j]\n",
    "            j -= 1\n",
    "\n",
    "        arr[j + 1] = key\n",
    "\n",
    "arr = [] \n",
    "n = int(input(\"enter size of array - \"))\n",
    "for i in range(0, n):\n",
    "    a = input(\"enter element no %d - \" %(i+1));\n",
    "    arr.append(a)\n",
    "bubbleSort(arr)\n",
    "print(\"Sorted array is: - \")\n",
    "print(arr)"
   ]
  },
  {
   "cell_type": "code",
   "execution_count": 3,
   "id": "89dc0095",
   "metadata": {},
   "outputs": [
    {
     "name": "stdout",
     "output_type": "stream",
     "text": [
      "enter size of array - 5\n",
      "enter element no 1 - 6\n",
      "enter element no 2 - 1\n",
      "enter element no 3 - 3\n",
      "enter element no 4 - 9\n",
      "enter element no 5 - 2\n",
      "Sorted array is: - \n",
      "['1', '2', '3', '6', '9']\n"
     ]
    }
   ],
   "source": [
    "#Selection Sort\n",
    "\n",
    "def selection_sort(arr):\n",
    "    n = len(arr)\n",
    "\n",
    "    for i in range(n):\n",
    "        min_index = i\n",
    "\n",
    "        for j in range(i + 1, n):\n",
    "            if arr[j] < arr[min_index]:\n",
    "                min_index = j\n",
    "\n",
    "        arr[i], arr[min_index] = arr[min_index], arr[i]\n",
    "\n",
    "arr = [] \n",
    "n = int(input(\"enter size of array - \"))\n",
    "for i in range(0, n):\n",
    "    a = input(\"enter element no %d - \" %(i+1));\n",
    "    arr.append(a)\n",
    "bubbleSort(arr)\n",
    "print(\"Sorted array is: - \")\n",
    "print(arr)"
   ]
  },
  {
   "cell_type": "code",
   "execution_count": null,
   "id": "52ca7d76",
   "metadata": {},
   "outputs": [],
   "source": []
  }
 ],
 "metadata": {
  "kernelspec": {
   "display_name": "Python 3 (ipykernel)",
   "language": "python",
   "name": "python3"
  },
  "language_info": {
   "codemirror_mode": {
    "name": "ipython",
    "version": 3
   },
   "file_extension": ".py",
   "mimetype": "text/x-python",
   "name": "python",
   "nbconvert_exporter": "python",
   "pygments_lexer": "ipython3",
   "version": "3.10.9"
  }
 },
 "nbformat": 4,
 "nbformat_minor": 5
}
