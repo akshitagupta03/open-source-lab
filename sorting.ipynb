{
  "metadata": {
    "language_info": {
      "codemirror_mode": {
        "name": "python",
        "version": 3
      },
      "file_extension": ".py",
      "mimetype": "text/x-python",
      "name": "python",
      "nbconvert_exporter": "python",
      "pygments_lexer": "ipython3",
      "version": "3.8"
    },
    "kernelspec": {
      "name": "python",
      "display_name": "Python (Pyodide)",
      "language": "python"
    }
  },
  "nbformat_minor": 4,
  "nbformat": 4,
  "cells": [
    {
      "cell_type": "code",
      "source": "def bubbleSort(arr):\n    n = len(arr)\n    swapped = False\n    for i in range(n-1):\n        for j in range(0, n-i-1):\n        \n            if arr[j] > arr[j + 1]:\n                swapped = True\n                arr[j], arr[j + 1] = arr[j + 1], arr[j]\n         \n        if not swapped:\n            return\n \narr = [] \nn = int(input(\"enter size of array - \"))\nfor i in range(0, n):\n    a = input(\"enter element no %d - \" %(i+1));\n    arr.append(a)\nbubbleSort(arr)\nprint(\"Sorted array is: - \")\nprint(arr)",
      "metadata": {
        "trusted": true
      },
      "execution_count": null,
      "outputs": []
    },
    {
      "cell_type": "code",
      "source": "",
      "metadata": {},
      "execution_count": null,
      "outputs": []
    }
  ]
}